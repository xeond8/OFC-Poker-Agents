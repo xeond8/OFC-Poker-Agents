{
 "cells": [
  {
   "cell_type": "code",
   "execution_count": 1,
   "id": "dfbfb3f6",
   "metadata": {},
   "outputs": [],
   "source": [
    "from bot.environment import Environment\n",
    "from ultralytics import YOLO\n",
    "from cv.process_images import image_to_board, image_to_hand\n",
    "from bot.agents import ISMCTSAgent, SimpleFantasyLikeOneBoard"
   ]
  },
  {
   "cell_type": "code",
   "execution_count": 2,
   "id": "329d4f64",
   "metadata": {},
   "outputs": [
    {
     "name": "stdout",
     "output_type": "stream",
     "text": [
      "\n",
      "0: 640x640 4 10Hs, 4 3Cs, 1 4D, 4 8Cs, 4 9Cs, 4 9Hs, 4 ADs, 4 KDs, 130.0ms\n",
      "Speed: 46.3ms preprocess, 130.0ms inference, 7.7ms postprocess per image at shape (1, 3, 640, 640)\n",
      "\n",
      "0: 640x640 4 9Hs, 2 JCs, 1 KD, 1 KS, 86.5ms\n",
      "Speed: 2.6ms preprocess, 86.5ms inference, 2.1ms postprocess per image at shape (1, 3, 640, 640)\n"
     ]
    }
   ],
   "source": [
    "model = YOLO(\"cv/runs/detect/train/weights/best.pt\")\n",
    "hand_path = \"cv/hand.jpg\"\n",
    "board_path = \"cv/board.jpg\"\n",
    "\n",
    "board = image_to_board(model, image_path=board_path)\n",
    "hand = image_to_hand(model, image_path=hand_path)\n",
    "\n",
    "env = Environment(board1=board,hand=hand)\n",
    "env.update_situation()"
   ]
  },
  {
   "cell_type": "code",
   "execution_count": 3,
   "id": "a1a0e4de",
   "metadata": {},
   "outputs": [
    {
     "name": "stdout",
     "output_type": "stream",
     "text": [
      "----------------------------------------\n",
      "First player: \n",
      " [ K ♦ ] \n",
      " [ 3 ♣ ]  [ T ❤ ]  [ 8 ♣ ] \n",
      " [ 9 ♣ ]  [ A ♦ ]  [ 9 ❤ ] \n",
      "Dump: \n",
      "\n",
      "\n",
      "Second player: \n",
      "\n",
      "\n",
      "\n",
      "Dump: \n",
      "\n",
      "Hand: \n",
      " [ 9 ❤ ]  [ J ♣ ]  [ K ♠ ] \n",
      "\n"
     ]
    }
   ],
   "source": [
    "print(env)"
   ]
  },
  {
   "cell_type": "code",
   "execution_count": 5,
   "id": "74c5c4d8",
   "metadata": {},
   "outputs": [
    {
     "name": "stdout",
     "output_type": "stream",
     "text": [
      " [ K ♠ ] // [ 9 ❤ ]  0.808\n",
      " [ J ♣ ] // [ 9 ❤ ]  0.513\n",
      "/ [ K ♠ ] / [ 9 ❤ ]  0.506\n",
      " [ 9 ❤ ]  [ K ♠ ] // 0.313\n",
      " [ J ♣ ]  [ K ♠ ] // 0.192\n"
     ]
    }
   ],
   "source": [
    "rollout_agent = SimpleFantasyLikeOneBoard(n_decks=1, no_random=True, ret_action=True)\n",
    "agent = ISMCTSAgent(c=3, rollout_policy=rollout_agent, n_iter=50000, two_players=False)\n",
    "action = agent.act(env)"
   ]
  },
  {
   "cell_type": "code",
   "execution_count": null,
   "id": "08cc1ddc",
   "metadata": {},
   "outputs": [],
   "source": []
  }
 ],
 "metadata": {
  "kernelspec": {
   "display_name": ".venv",
   "language": "python",
   "name": "python3"
  },
  "language_info": {
   "codemirror_mode": {
    "name": "ipython",
    "version": 3
   },
   "file_extension": ".py",
   "mimetype": "text/x-python",
   "name": "python",
   "nbconvert_exporter": "python",
   "pygments_lexer": "ipython3",
   "version": "3.13.7"
  }
 },
 "nbformat": 4,
 "nbformat_minor": 5
}
