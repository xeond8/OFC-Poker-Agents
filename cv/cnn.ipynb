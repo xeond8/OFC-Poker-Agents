{
 "cells": [
  {
   "cell_type": "code",
   "id": "initial_id",
   "metadata": {
    "collapsed": true,
    "ExecuteTime": {
     "end_time": "2025-08-10T17:50:58.547507Z",
     "start_time": "2025-08-10T17:50:55.992805Z"
    }
   },
   "source": [
    "import torch\n",
    "from torch import nn\n",
    "from torch.utils.data import Dataset, DataLoader, random_split\n",
    "from cnn import CardDataset, CNN, rank_converter, suit_converter, decode_rank, decode_suit\n",
    "import matplotlib.pyplot as plt\n",
    "from PIL import Image\n",
    "import numpy as np\n",
    "from tqdm import trange\n",
    "import os\n",
    "import shutil"
   ],
   "outputs": [],
   "execution_count": 3
  },
  {
   "metadata": {
    "ExecuteTime": {
     "end_time": "2025-08-10T17:50:58.646403Z",
     "start_time": "2025-08-10T17:50:58.554366Z"
    }
   },
   "cell_type": "code",
   "source": [
    "dataset = CardDataset()\n",
    "train_size = int(0.95 * len(dataset))\n",
    "validation_size = len(dataset) - train_size\n",
    "train_subset, validation_subset = random_split(dataset, [train_size, validation_size])\n",
    "train_loader = DataLoader(train_subset, batch_size=32, shuffle=True)"
   ],
   "id": "2c3147f90a0ad064",
   "outputs": [],
   "execution_count": 4
  },
  {
   "metadata": {
    "ExecuteTime": {
     "end_time": "2025-08-10T18:16:13.205682Z",
     "start_time": "2025-08-10T18:03:58.891238Z"
    }
   },
   "cell_type": "code",
   "source": [
    "model = CNN()\n",
    "\n",
    "loss_function = nn.CrossEntropyLoss()\n",
    "learning_rate = 1e-3\n",
    "optimizer = torch.optim.Adam(model.parameters(), learning_rate)\n",
    "\n",
    "best_accuracy = 0\n",
    "for epoch in trange(15):\n",
    "    running_loss = 0\n",
    "    model.train()\n",
    "    for batch in train_loader:\n",
    "        X_batch, y_batch = batch\n",
    "\n",
    "        optimizer.zero_grad()\n",
    "\n",
    "        y_pred = model.forward(X_batch)\n",
    "\n",
    "        loss = loss_function(y_pred, y_batch)\n",
    "        loss.backward()\n",
    "        optimizer.step()\n",
    "        running_loss += loss.item()\n",
    "\n",
    "    accuracy = 0\n",
    "    val_ds, inds = validation_subset.dataset, validation_subset.indices\n",
    "    model.eval()\n",
    "    for ind in inds:\n",
    "        X, y_true = dataset[ind]\n",
    "        y_pred = np.argmax(model(X).detach().numpy())\n",
    "        accuracy += (y_true == y_pred)\n",
    "    if best_accuracy < accuracy:\n",
    "        best_accuracy = accuracy\n",
    "        torch.save(model.state_dict(), \"model.pt\")\n",
    "    \n",
    "    torch.save(model.state_dict(), f\"model_{epoch}_new.pt\")\n",
    "    \n",
    "    learning_rate *= 0.8\n",
    "\n",
    "    print(f\"Epoch {epoch} Accuracy:\", accuracy / len(inds))"
   ],
   "id": "62baf87b6c13dcb3",
   "outputs": [
    {
     "name": "stderr",
     "output_type": "stream",
     "text": [
      "  7%|▋         | 1/15 [00:43<10:02, 43.02s/it]"
     ]
    },
    {
     "name": "stdout",
     "output_type": "stream",
     "text": [
      "Epoch 0 Accuracy: 0.5473087818696883\n"
     ]
    },
    {
     "name": "stderr",
     "output_type": "stream",
     "text": [
      " 13%|█▎        | 2/15 [01:36<10:37, 49.05s/it]"
     ]
    },
    {
     "name": "stdout",
     "output_type": "stream",
     "text": [
      "Epoch 1 Accuracy: 0.6311614730878187\n"
     ]
    },
    {
     "name": "stderr",
     "output_type": "stream",
     "text": [
      " 20%|██        | 3/15 [02:23<09:40, 48.34s/it]"
     ]
    },
    {
     "name": "stdout",
     "output_type": "stream",
     "text": [
      "Epoch 2 Accuracy: 0.8339943342776204\n"
     ]
    },
    {
     "name": "stderr",
     "output_type": "stream",
     "text": [
      " 27%|██▋       | 4/15 [03:13<08:58, 48.96s/it]"
     ]
    },
    {
     "name": "stdout",
     "output_type": "stream",
     "text": [
      "Epoch 3 Accuracy: 0.9722379603399434\n"
     ]
    },
    {
     "name": "stderr",
     "output_type": "stream",
     "text": [
      " 33%|███▎      | 5/15 [04:02<08:10, 49.05s/it]"
     ]
    },
    {
     "name": "stdout",
     "output_type": "stream",
     "text": [
      "Epoch 4 Accuracy: 0.9903682719546743\n"
     ]
    },
    {
     "name": "stderr",
     "output_type": "stream",
     "text": [
      " 40%|████      | 6/15 [04:53<07:25, 49.52s/it]"
     ]
    },
    {
     "name": "stdout",
     "output_type": "stream",
     "text": [
      "Epoch 5 Accuracy: 0.9915014164305949\n"
     ]
    },
    {
     "name": "stderr",
     "output_type": "stream",
     "text": [
      " 47%|████▋     | 7/15 [05:45<06:42, 50.32s/it]"
     ]
    },
    {
     "name": "stdout",
     "output_type": "stream",
     "text": [
      "Epoch 6 Accuracy: 0.9971671388101983\n"
     ]
    },
    {
     "name": "stderr",
     "output_type": "stream",
     "text": [
      " 53%|█████▎    | 8/15 [06:37<05:56, 50.94s/it]"
     ]
    },
    {
     "name": "stdout",
     "output_type": "stream",
     "text": [
      "Epoch 7 Accuracy: 0.9909348441926346\n"
     ]
    },
    {
     "name": "stderr",
     "output_type": "stream",
     "text": [
      " 60%|██████    | 9/15 [07:28<05:05, 50.95s/it]"
     ]
    },
    {
     "name": "stdout",
     "output_type": "stream",
     "text": [
      "Epoch 8 Accuracy: 0.9609065155807366\n"
     ]
    },
    {
     "name": "stderr",
     "output_type": "stream",
     "text": [
      " 67%|██████▋   | 10/15 [08:17<04:11, 50.39s/it]"
     ]
    },
    {
     "name": "stdout",
     "output_type": "stream",
     "text": [
      "Epoch 9 Accuracy: 0.9994334277620397\n"
     ]
    },
    {
     "name": "stderr",
     "output_type": "stream",
     "text": [
      " 73%|███████▎  | 11/15 [09:06<03:19, 49.92s/it]"
     ]
    },
    {
     "name": "stdout",
     "output_type": "stream",
     "text": [
      "Epoch 10 Accuracy: 0.996600566572238\n"
     ]
    },
    {
     "name": "stderr",
     "output_type": "stream",
     "text": [
      " 80%|████████  | 12/15 [09:56<02:30, 50.03s/it]"
     ]
    },
    {
     "name": "stdout",
     "output_type": "stream",
     "text": [
      "Epoch 11 Accuracy: 0.996600566572238\n"
     ]
    },
    {
     "name": "stderr",
     "output_type": "stream",
     "text": [
      " 87%|████████▋ | 13/15 [10:43<01:37, 48.99s/it]"
     ]
    },
    {
     "name": "stdout",
     "output_type": "stream",
     "text": [
      "Epoch 12 Accuracy: 0.996600566572238\n"
     ]
    },
    {
     "name": "stderr",
     "output_type": "stream",
     "text": [
      " 93%|█████████▎| 14/15 [11:29<00:47, 47.99s/it]"
     ]
    },
    {
     "name": "stdout",
     "output_type": "stream",
     "text": [
      "Epoch 13 Accuracy: 0.998300283286119\n"
     ]
    },
    {
     "name": "stderr",
     "output_type": "stream",
     "text": [
      "100%|██████████| 15/15 [12:14<00:00, 48.95s/it]"
     ]
    },
    {
     "name": "stdout",
     "output_type": "stream",
     "text": [
      "Epoch 14 Accuracy: 0.9943342776203966\n"
     ]
    },
    {
     "name": "stderr",
     "output_type": "stream",
     "text": [
      "\n"
     ]
    }
   ],
   "execution_count": 10
  },
  {
   "metadata": {},
   "cell_type": "code",
   "outputs": [],
   "execution_count": null,
   "source": "",
   "id": "5f47160d29c1c040"
  }
 ],
 "metadata": {
  "kernelspec": {
   "display_name": "Python 3",
   "language": "python",
   "name": "python3"
  },
  "language_info": {
   "codemirror_mode": {
    "name": "ipython",
    "version": 2
   },
   "file_extension": ".py",
   "mimetype": "text/x-python",
   "name": "python",
   "nbconvert_exporter": "python",
   "pygments_lexer": "ipython2",
   "version": "2.7.6"
  }
 },
 "nbformat": 4,
 "nbformat_minor": 5
}
